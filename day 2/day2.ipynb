{
 "cells": [
  {
   "cell_type": "markdown",
   "metadata": {},
   "source": [
    "Part 1"
   ]
  },
  {
   "cell_type": "code",
   "execution_count": 33,
   "metadata": {},
   "outputs": [],
   "source": [
    "num_safe = 0"
   ]
  },
  {
   "cell_type": "code",
   "execution_count": 34,
   "metadata": {},
   "outputs": [],
   "source": [
    "inputs = []\n",
    "with open('inputs.txt') as f:\n",
    "    for line in f:\n",
    "        # split the line into a list\n",
    "        values = line.split()\n",
    "        # convert the list of strings to a list of integers\n",
    "        values = [int(i) for i in values]\n",
    "        inputs.append(values)"
   ]
  },
  {
   "cell_type": "code",
   "execution_count": null,
   "metadata": {},
   "outputs": [],
   "source": [
    "for input in inputs:\n",
    "    # if it's decreasing, reverse it so we can treat it as increasing, by comparing the first and last value\n",
    "    # if they're both the same, we just assume it's increasing. This is a big assumption, may not work\n",
    "    if input[0] > input[-1]:\n",
    "        input.reverse()\n",
    "\n",
    "    # Assume it's safe until proven otherwise\n",
    "    safe = True\n",
    "    for i in range(1, len(input)):\n",
    "        if input[i] <= input[i - 1] or abs(input[i] - input[i - 1]) < 1 or abs(input[i] - input[i - 1]) > 3:\n",
    "            safe = False\n",
    "            break\n",
    "\n",
    "    if safe:\n",
    "        num_safe += 1"
   ]
  },
  {
   "cell_type": "code",
   "execution_count": 26,
   "metadata": {},
   "outputs": [
    {
     "name": "stdout",
     "output_type": "stream",
     "text": [
      "660\n"
     ]
    }
   ],
   "source": [
    "print(num_safe)"
   ]
  },
  {
   "cell_type": "markdown",
   "metadata": {},
   "source": [
    "Part 2"
   ]
  },
  {
   "cell_type": "code",
   "execution_count": 51,
   "metadata": {},
   "outputs": [],
   "source": [
    "num_safe = 0"
   ]
  },
  {
   "cell_type": "code",
   "execution_count": 52,
   "metadata": {},
   "outputs": [],
   "source": [
    "def check_if_safe(input):\n",
    "     # if it's decreasing, reverse it so we can treat it as increasing, by comparing the first and last value\n",
    "    # if they're both the same, we just assume it's increasing. This is a big assumption, may not work\n",
    "    if input[0] > input[-1]:\n",
    "        input.reverse()\n",
    "\n",
    "    # Assume it's safe until proven otherwise\n",
    "    safe = True\n",
    "    for i in range(1, len(input)):\n",
    "        if input[i] <= input[i - 1] or abs(input[i] - input[i - 1]) < 1 or abs(input[i] - input[i - 1]) > 3:\n",
    "            safe = False\n",
    "            break\n",
    "\n",
    "    if safe:\n",
    "        return True\n",
    "    else:\n",
    "        return False"
   ]
  },
  {
   "cell_type": "code",
   "execution_count": null,
   "metadata": {},
   "outputs": [],
   "source": [
    "for input in inputs:\n",
    "    if check_if_safe(input):\n",
    "        num_safe += 1\n",
    "    else:\n",
    "        # Check every possible combination of removing one element\n",
    "        # Technically super slow, but works\n",
    "        for i in range(len(input)):\n",
    "            temp = input.copy()\n",
    "            temp.pop(i)\n",
    "            if check_if_safe(temp):\n",
    "                num_safe += 1\n",
    "                break"
   ]
  },
  {
   "cell_type": "code",
   "execution_count": 54,
   "metadata": {},
   "outputs": [
    {
     "data": {
      "text/plain": [
       "689"
      ]
     },
     "execution_count": 54,
     "metadata": {},
     "output_type": "execute_result"
    }
   ],
   "source": [
    "num_safe"
   ]
  },
  {
   "cell_type": "code",
   "execution_count": null,
   "metadata": {},
   "outputs": [],
   "source": []
  }
 ],
 "metadata": {
  "kernelspec": {
   "display_name": "base",
   "language": "python",
   "name": "python3"
  },
  "language_info": {
   "codemirror_mode": {
    "name": "ipython",
    "version": 3
   },
   "file_extension": ".py",
   "mimetype": "text/x-python",
   "name": "python",
   "nbconvert_exporter": "python",
   "pygments_lexer": "ipython3",
   "version": "3.11.5"
  }
 },
 "nbformat": 4,
 "nbformat_minor": 2
}
