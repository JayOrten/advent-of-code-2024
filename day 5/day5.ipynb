{
 "cells": [
  {
   "cell_type": "code",
   "execution_count": 2,
   "metadata": {},
   "outputs": [],
   "source": [
    "from aocd import data"
   ]
  },
  {
   "cell_type": "markdown",
   "metadata": {},
   "source": [
    "## Part 1"
   ]
  },
  {
   "cell_type": "code",
   "execution_count": 56,
   "metadata": {},
   "outputs": [],
   "source": [
    "# Split by empty line\n",
    "split_data = data.split(\"\\n\\n\")\n",
    "\n",
    "ordering_rules = split_data[0].split(\"\\n\")\n",
    "ordering_rules = [(int(x[0]), int(x[1])) for x in [y.split(\"|\") for y in ordering_rules]]\n",
    "\n",
    "updates = split_data[1].split(\"\\n\")\n",
    "updates = [[int(x) for x in j.split(',')] for j in updates]"
   ]
  },
  {
   "cell_type": "code",
   "execution_count": 57,
   "metadata": {},
   "outputs": [],
   "source": [
    "correct_updates = []"
   ]
  },
  {
   "cell_type": "code",
   "execution_count": 58,
   "metadata": {},
   "outputs": [],
   "source": [
    "for update in updates:\n",
    "    valid = True\n",
    "    # Check if it's correct\n",
    "    checked = []\n",
    "    for page in update:\n",
    "        # Scan through second elements of ordering rules to make sure we've already checked the first element, if it's in update\n",
    "        for rule in ordering_rules:\n",
    "            if rule[1] == page:\n",
    "                if rule[0] not in update or rule[0] in checked:\n",
    "                    continue\n",
    "                else:\n",
    "                    # This update isn't valid\n",
    "                    valid = False\n",
    "                    break\n",
    "\n",
    "        if not valid:\n",
    "            break\n",
    "        else:\n",
    "            checked.append(page)\n",
    "\n",
    "    if valid:\n",
    "        correct_updates.append(update)\n"
   ]
  },
  {
   "cell_type": "code",
   "execution_count": 59,
   "metadata": {},
   "outputs": [],
   "source": [
    "# For each update in valid updates, grab the middle element and sum them\n",
    "sums = 0\n",
    "for update in correct_updates:\n",
    "    # get middle element\n",
    "    middle_index = len(update) // 2\n",
    "    sums += update[middle_index]"
   ]
  },
  {
   "cell_type": "code",
   "execution_count": 60,
   "metadata": {},
   "outputs": [
    {
     "data": {
      "text/plain": [
       "5948"
      ]
     },
     "execution_count": 60,
     "metadata": {},
     "output_type": "execute_result"
    }
   ],
   "source": [
    "sums"
   ]
  },
  {
   "cell_type": "markdown",
   "metadata": {},
   "source": [
    "## Part 2"
   ]
  },
  {
   "cell_type": "code",
   "execution_count": 62,
   "metadata": {},
   "outputs": [],
   "source": [
    "# First, get all incorrect updates\n",
    "incorrect_updates = [update for update in updates if update not in correct_updates]"
   ]
  },
  {
   "cell_type": "code",
   "execution_count": 63,
   "metadata": {},
   "outputs": [],
   "source": [
    "# Create an adjacency list of all rules\n",
    "adj_list = {}\n",
    "for rule in ordering_rules:\n",
    "    if rule[0] not in adj_list:\n",
    "        adj_list[rule[0]] = []\n",
    "    adj_list[rule[0]].append(rule[1])"
   ]
  },
  {
   "cell_type": "code",
   "execution_count": 66,
   "metadata": {},
   "outputs": [],
   "source": [
    "corrected_updates = []"
   ]
  },
  {
   "cell_type": "code",
   "execution_count": 67,
   "metadata": {},
   "outputs": [],
   "source": [
    "for update in incorrect_updates:\n",
    "    # Create a new adjacency list that only contains the values in the update\n",
    "    temp_adj_list = {}\n",
    "    for val in update:\n",
    "        temp_adj_list[val] = []\n",
    "        if val in adj_list:\n",
    "            for val2 in adj_list[val]:\n",
    "                if val2 in update:\n",
    "                    temp_adj_list[val].append(val2)\n",
    "\n",
    "    new_update = []\n",
    "    # First, find the sink node(s), where there are no outgoing edges\n",
    "    for node in temp_adj_list:\n",
    "        if len(temp_adj_list[node]) == 0:\n",
    "            new_update.append(node)\n",
    "\n",
    "    while len(new_update) < len(update):\n",
    "        # Find the next key in adj_list, where the list of values contains all of the new_update values\n",
    "        for key in temp_adj_list:\n",
    "            if key in new_update:\n",
    "                continue\n",
    "            \n",
    "            match = True\n",
    "            for val in temp_adj_list[key]:\n",
    "                if val not in new_update and val in update:\n",
    "                    match = False\n",
    "                    break\n",
    "\n",
    "            if match:\n",
    "                new_update.append(key)\n",
    "                break\n",
    "            \n",
    "    new_update.reverse()\n",
    "    corrected_updates.append(new_update)"
   ]
  },
  {
   "cell_type": "code",
   "execution_count": 69,
   "metadata": {},
   "outputs": [],
   "source": [
    "# For each update in valid updates, grab the middle element and sum them\n",
    "sums = 0\n",
    "for update in corrected_updates:\n",
    "    # get middle element\n",
    "    middle_index = len(update) // 2\n",
    "    sums += update[middle_index]"
   ]
  },
  {
   "cell_type": "code",
   "execution_count": 70,
   "metadata": {},
   "outputs": [
    {
     "data": {
      "text/plain": [
       "3062"
      ]
     },
     "execution_count": 70,
     "metadata": {},
     "output_type": "execute_result"
    }
   ],
   "source": [
    "sums"
   ]
  }
 ],
 "metadata": {
  "kernelspec": {
   "display_name": "base",
   "language": "python",
   "name": "python3"
  },
  "language_info": {
   "codemirror_mode": {
    "name": "ipython",
    "version": 3
   },
   "file_extension": ".py",
   "mimetype": "text/x-python",
   "name": "python",
   "nbconvert_exporter": "python",
   "pygments_lexer": "ipython3",
   "version": "3.11.5"
  }
 },
 "nbformat": 4,
 "nbformat_minor": 2
}
