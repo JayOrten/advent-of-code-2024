{
 "cells": [
  {
   "cell_type": "code",
   "execution_count": 1,
   "metadata": {},
   "outputs": [],
   "source": [
    "from aocd import get_data"
   ]
  },
  {
   "cell_type": "code",
   "execution_count": 19,
   "metadata": {},
   "outputs": [],
   "source": [
    "data = get_data(day=7, year=2024)"
   ]
  },
  {
   "cell_type": "code",
   "execution_count": 21,
   "metadata": {},
   "outputs": [],
   "source": [
    "from collections import deque"
   ]
  },
  {
   "cell_type": "markdown",
   "metadata": {},
   "source": [
    "## Part 1"
   ]
  },
  {
   "cell_type": "code",
   "execution_count": 22,
   "metadata": {},
   "outputs": [],
   "source": [
    "# Split by each line\n",
    "data = data.split(\"\\n\")"
   ]
  },
  {
   "cell_type": "code",
   "execution_count": 23,
   "metadata": {},
   "outputs": [],
   "source": [
    "current_sum = 0"
   ]
  },
  {
   "cell_type": "code",
   "execution_count": 24,
   "metadata": {},
   "outputs": [],
   "source": [
    "for line in data:\n",
    "    # First parse the line into test value and equation\n",
    "    test_value, equation = line.split(\": \")\n",
    "    test_value = int(test_value)\n",
    "    equation = equation.split(\" \")\n",
    "    equation = [int(x) for x in equation]\n",
    "\n",
    "    # Use a deque to process values\n",
    "    queue = deque()\n",
    "\n",
    "    queue.appendleft(equation[0] + equation[1])\n",
    "    queue.appendleft(equation[0] * equation[1])\n",
    "\n",
    "    for i in range(2, len(equation), 1):\n",
    "        new_values = []\n",
    "        while len(queue) > 0:\n",
    "            current_value = queue.pop()\n",
    "\n",
    "            if not (current_value + equation[i] > test_value):\n",
    "                new_values.append(current_value + equation[i])\n",
    "            if not (current_value * equation[i] > test_value):\n",
    "                new_values.append(current_value * equation[i])\n",
    "\n",
    "        queue = deque(new_values)\n",
    "    \n",
    "    if test_value in queue:\n",
    "        current_sum += test_value\n"
   ]
  },
  {
   "cell_type": "code",
   "execution_count": 25,
   "metadata": {},
   "outputs": [
    {
     "data": {
      "text/plain": [
       "538191549061"
      ]
     },
     "execution_count": 25,
     "metadata": {},
     "output_type": "execute_result"
    }
   ],
   "source": [
    "current_sum"
   ]
  }
 ],
 "metadata": {
  "kernelspec": {
   "display_name": "base",
   "language": "python",
   "name": "python3"
  },
  "language_info": {
   "codemirror_mode": {
    "name": "ipython",
    "version": 3
   },
   "file_extension": ".py",
   "mimetype": "text/x-python",
   "name": "python",
   "nbconvert_exporter": "python",
   "pygments_lexer": "ipython3",
   "version": "3.11.5"
  }
 },
 "nbformat": 4,
 "nbformat_minor": 2
}
