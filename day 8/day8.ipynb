{
 "cells": [
  {
   "cell_type": "code",
   "execution_count": 2,
   "metadata": {},
   "outputs": [],
   "source": [
    "from aocd import get_data"
   ]
  },
  {
   "cell_type": "code",
   "execution_count": 3,
   "metadata": {},
   "outputs": [],
   "source": [
    "data = get_data(day=8, year=2024)"
   ]
  },
  {
   "cell_type": "code",
   "execution_count": 6,
   "metadata": {},
   "outputs": [],
   "source": [
    "data = data.split(\"\\n\")"
   ]
  },
  {
   "cell_type": "code",
   "execution_count": 17,
   "metadata": {},
   "outputs": [],
   "source": [
    "from collections import defaultdict"
   ]
  },
  {
   "cell_type": "markdown",
   "metadata": {},
   "source": [
    "## Part 1"
   ]
  },
  {
   "cell_type": "code",
   "execution_count": 13,
   "metadata": {},
   "outputs": [],
   "source": [
    "# Break down the data into a 2d grid\n",
    "grid = [list(line) for line in data]"
   ]
  },
  {
   "cell_type": "code",
   "execution_count": 31,
   "metadata": {},
   "outputs": [],
   "source": [
    "unique_node_values = defaultdict(list)\n",
    "# First, compile a list of unique node values\n",
    "for row_index, row in enumerate(grid):\n",
    "    for column_index, node in enumerate(row):\n",
    "        if node != \".\":\n",
    "            unique_node_values[node].append([row_index, column_index])"
   ]
  },
  {
   "cell_type": "code",
   "execution_count": 36,
   "metadata": {},
   "outputs": [],
   "source": [
    "unique_antinode_coordinates = set()"
   ]
  },
  {
   "cell_type": "code",
   "execution_count": 37,
   "metadata": {},
   "outputs": [],
   "source": [
    "# Iterate through the unique node values and find the antinodes\n",
    "for coordinates in unique_node_values.values():\n",
    "    for coordinate in coordinates:\n",
    "        row_index, column_index = coordinate\n",
    "        # TODO: doing this the slow way now\n",
    "        for other_coordinate in coordinates:\n",
    "            if other_coordinate != coordinate:\n",
    "                other_row_index, other_column_index = other_coordinate\n",
    "                # Find the row and column distance between the two nodes\n",
    "                row_distance = other_row_index - row_index\n",
    "                column_distance = other_column_index - column_index\n",
    "                new_point_1 = (row_index - row_distance, column_index - column_distance)\n",
    "                new_point_2 = (other_row_index +     row_distance, other_column_index + column_distance)\n",
    "                # Add the new points to the list of antinodes\n",
    "                # First make sure they're in bounds\n",
    "                if 0 <= new_point_1[0] < len(grid) and 0 <= new_point_1[1] < len(grid[0]):\n",
    "                    unique_antinode_coordinates.add(new_point_1)\n",
    "                if 0 <= new_point_2[0] < len(grid) and 0 <= new_point_2[1] < len(grid[0]):\n",
    "                    unique_antinode_coordinates.add(new_point_2)"
   ]
  },
  {
   "cell_type": "code",
   "execution_count": 38,
   "metadata": {},
   "outputs": [
    {
     "data": {
      "text/plain": [
       "240"
      ]
     },
     "execution_count": 38,
     "metadata": {},
     "output_type": "execute_result"
    }
   ],
   "source": [
    "len(unique_antinode_coordinates)"
   ]
  }
 ],
 "metadata": {
  "kernelspec": {
   "display_name": "base",
   "language": "python",
   "name": "python3"
  },
  "language_info": {
   "codemirror_mode": {
    "name": "ipython",
    "version": 3
   },
   "file_extension": ".py",
   "mimetype": "text/x-python",
   "name": "python",
   "nbconvert_exporter": "python",
   "pygments_lexer": "ipython3",
   "version": "3.11.5"
  }
 },
 "nbformat": 4,
 "nbformat_minor": 2
}
